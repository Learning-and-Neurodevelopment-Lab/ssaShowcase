{
 "cells": [
  {
   "cell_type": "markdown",
   "metadata": {},
   "source": [
    "# Label Conversion\n",
    "This file is used to convert RetinaFace output label to a standardized format."
   ]
  },
  {
   "cell_type": "code",
   "execution_count": null,
   "metadata": {},
   "outputs": [],
   "source": [
    "import pandas as pd\n",
    "import json\n",
    "import os\n",
    "import cv2\n",
    "\n",
    "import os\n",
    "\n",
    "\n",
    "# Standard Libraries\n",
    "import math\n",
    "from PIL import Image \n",
    "from ultralytics import YOLO\n",
    "import xml.etree.ElementTree as ET\n",
    "import pandas as pd\n",
    "\n",
    "\n",
    "import cv2\n",
    "import matplotlib.pyplot as plt"
   ]
  },
  {
   "cell_type": "markdown",
   "metadata": {},
   "source": [
    "### convert retinaface to yolo format"
   ]
  },
  {
   "cell_type": "code",
   "execution_count": null,
   "metadata": {},
   "outputs": [],
   "source": [
    "\n",
    "def convert_retinaface_to_yolo(input_folder, output_folder, image_folder, face_class_id=99):\n",
    "\n",
    "    if not os.path.exists(output_folder):\n",
    "        os.makedirs(output_folder)\n",
    "\n",
    "    for file_name in os.listdir(input_folder):\n",
    "        if not file_name.endswith('.json'):\n",
    "            continue\n",
    "\n",
    "        input_path = os.path.join(input_folder, file_name)\n",
    "        output_path = os.path.join(output_folder, file_name.replace('.json', '.txt'))\n",
    "\n",
    "        with open(input_path, 'r') as f:\n",
    "            retinaface_output = json.load(f)\n",
    "\n",
    "        # Handle case where no faces are detected\n",
    "        if \"message\" in retinaface_output and retinaface_output[\"message\"] == \"No faces detected\":\n",
    "            # Create an empty YOLO file\n",
    "            open(output_path, 'w').close()\n",
    "            print(f\"No faces detected for {file_name}. Created empty file.\")\n",
    "            continue\n",
    "\n",
    "        # Get corresponding image dimensions\n",
    "        image_name = file_name.replace('.json', '.png')\n",
    "        image_path = os.path.join(image_folder, image_name)\n",
    "\n",
    "        if not os.path.exists(image_path):\n",
    "            print(f\"Image file {image_path} not found. Skipping.\")\n",
    "            continue\n",
    "\n",
    "        image = cv2.imread(image_path)\n",
    "        if image is None:\n",
    "            print(f\"Failed to load image {image_path}. Skipping.\")\n",
    "            continue\n",
    "\n",
    "        image_height, image_width, _ = image.shape\n",
    "\n",
    "        yolo_annotations = []\n",
    "\n",
    "        # Process detected faces\n",
    "        for face_id, face_data in retinaface_output.items():\n",
    "            if face_id == \"message\":\n",
    "                continue\n",
    "\n",
    "            score = face_data[\"score\"]\n",
    "            x_min, y_min, x_max, y_max = face_data[\"facial_area\"]\n",
    "\n",
    "            # Calculate YOLO format values\n",
    "            x_center = round(((x_min + x_max) / 2) / image_width, 5)\n",
    "            y_center = round(((y_min + y_max) / 2) / image_height, 5)\n",
    "            width = round((x_max - x_min) / image_width, 5)\n",
    "            height = round((y_max - y_min) / image_height, 5)\n",
    "\n",
    "            # Append to YOLO annotations\n",
    "            yolo_annotations.append([face_class_id, x_center, y_center, width, height, score])\n",
    "\n",
    "        # Save to YOLO annotation file\n",
    "        if yolo_annotations:\n",
    "            yolo_df = pd.DataFrame(yolo_annotations, columns=[\"class\", \"x_center\", \"y_center\", \"width\", \"height\", \"confidence\"])\n",
    "            yolo_df.to_csv(output_path, sep=\" \", header=False, index=False)\n",
    "        else:\n",
    "            # Create an empty file if no annotations exist\n",
    "            open(output_path, 'w').close()\n",
    "\n",
    "        print(f\"Processed {file_name}. YOLO annotations saved to {output_path}.\")\n",
    "\n"
   ]
  },
  {
   "cell_type": "code",
   "execution_count": null,
   "metadata": {},
   "outputs": [],
   "source": [
    "sampleFolder = \"../ssic_image-corpus/scripts/baseline_retinaface/retina_base/\"\n",
    "outputFolder = \"../ssic_image-corpus/data_phase-3_randomization/retinaface_output_toyolo/\"\n",
    "\n",
    "\n",
    "imageFolder = \"../ssic_image-corpus/data_phase-3_randomization/randomization_unsorted_imageonly/\"\n",
    "\n",
    "convert_retinaface_to_yolo(\n",
    "    input_folder=sampleFolder,\n",
    "    output_folder=outputFolder,\n",
    "    image_folder=imageFolder,\n",
    "    face_class_id=99)\n"
   ]
  }
 ],
 "metadata": {
  "kernelspec": {
   "display_name": "Python 3",
   "language": "python",
   "name": "python3"
  },
  "language_info": {
   "codemirror_mode": {
    "name": "ipython",
    "version": 3
   },
   "file_extension": ".py",
   "mimetype": "text/x-python",
   "name": "python",
   "nbconvert_exporter": "python",
   "pygments_lexer": "ipython3",
   "version": "3.11.4"
  }
 },
 "nbformat": 4,
 "nbformat_minor": 2
}
