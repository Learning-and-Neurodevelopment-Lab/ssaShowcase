{
 "cells": [
  {
   "cell_type": "markdown",
   "metadata": {},
   "source": [
    "# Converting Existing Label to Face Only\n",
    "This notebook contains the code to filter out only the face labels within the current labelme file. "
   ]
  },
  {
   "cell_type": "markdown",
   "metadata": {},
   "source": [
    "### Filter only face labels"
   ]
  },
  {
   "cell_type": "code",
   "execution_count": 1,
   "metadata": {},
   "outputs": [],
   "source": [
    "import xml.etree.ElementTree as ET\n",
    "import os"
   ]
  },
  {
   "cell_type": "code",
   "execution_count": 2,
   "metadata": {},
   "outputs": [],
   "source": [
    "def filter_face_objects(input_file, output_file):\n",
    "    # Parse the XML file\n",
    "    tree = ET.parse(input_file)\n",
    "    root = tree.getroot()\n",
    "    \n",
    "    # Find all <object> elements\n",
    "    for obj in root.findall('object'):\n",
    "        name = obj.find('name').text\n",
    "        # print(name)\n",
    "        if name.strip().upper() != \"FACE\":\n",
    "            root.remove(obj)  # Remove objects not matching \"FACE\"\n",
    "    \n",
    "    # Write the modified tree to a new file\n",
    "    tree.write(output_file, encoding=\"utf-8\", xml_declaration=False)\n",
    "    print(f\"Filtered XML saved to: {output_file}\")"
   ]
  },
  {
   "cell_type": "code",
   "execution_count": 16,
   "metadata": {},
   "outputs": [
    {
     "name": "stdout",
     "output_type": "stream",
     "text": [
      "FACE\n",
      "FACE\n",
      "NUMBER\n",
      "Filtered XML saved to: testing.xml\n"
     ]
    }
   ],
   "source": [
    "# Specify input and output file paths\n",
    "input_file = 'work.xml'\n",
    "output_file = 'testing.xml'\n",
    "\n",
    "# Run the filtering function\n",
    "filter_face_objects(input_file, output_file)\n"
   ]
  },
  {
   "cell_type": "code",
   "execution_count": null,
   "metadata": {},
   "outputs": [],
   "source": [
    "labelDirectory = \"../ssic_image-corpus/data_phase-4_consensus/face/label_only/\"\n",
    "faceonlyDirectory = \"../ssic_image-corpus/data_phase-4_consensus/face/label_face_only_actual_labelme/\"\n",
    "\n",
    "\n",
    "allLabels = os.listdir(labelDirectory)\n",
    "\n",
    "for x in allLabels:\n",
    "    if x.endswith(\".xml\"):\n",
    "        # replace the curretn file with the filtered one\n",
    "        filter_face_objects(labelDirectory + x, faceonlyDirectory + x)"
   ]
  }
 ],
 "metadata": {
  "kernelspec": {
   "display_name": "Python 3",
   "language": "python",
   "name": "python3"
  },
  "language_info": {
   "codemirror_mode": {
    "name": "ipython",
    "version": 3
   },
   "file_extension": ".py",
   "mimetype": "text/x-python",
   "name": "python",
   "nbconvert_exporter": "python",
   "pygments_lexer": "ipython3",
   "version": "3.11.4"
  }
 },
 "nbformat": 4,
 "nbformat_minor": 2
}
