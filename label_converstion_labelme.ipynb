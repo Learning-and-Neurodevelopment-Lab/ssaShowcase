{
 "cells": [
  {
   "cell_type": "markdown",
   "metadata": {},
   "source": [
    "# Lbel Conversion\n",
    "This file contain code for the proper converstaion of the labelme file to a standardized format."
   ]
  },
  {
   "cell_type": "code",
   "execution_count": null,
   "metadata": {},
   "outputs": [],
   "source": [
    "import os\n",
    "\n",
    "# Standard Libraries\n",
    "import math\n",
    "from PIL import Image \n",
    "from ultralytics import YOLO\n",
    "import xml.etree.ElementTree as ET\n",
    "import pandas as pd\n",
    "\n",
    "from textwrap import wrap\n",
    "import cv2\n",
    "import matplotlib.pyplot as plt"
   ]
  },
  {
   "cell_type": "markdown",
   "metadata": {},
   "source": [
    "### convert labelme to the YOLO format - testing on one file\n",
    "The output format from the model is [class] [x_center] [y_center] [width] [height] [confidence]. \n",
    "\n",
    "This is the result from the model argument of the predict function. In the function, I used save_txt = True, and not saving the result in a separate line. The result format is in the option above.\n",
    "\n",
    "\n",
    "The following function was used for yolo results:\n",
    "``` python\n",
    "results = model.predict(source=imagePath, device = \"cuda:0\", agnostic_nms = True, save = False, save_txt = True, save_conf = True, conf = 0.75, visualize = False, batch = 32, project = \"../ssic_image-corpus/scripts/baseline/batchAnother\")\n",
    "```"
   ]
  },
  {
   "cell_type": "code",
   "execution_count": 80,
   "metadata": {},
   "outputs": [],
   "source": [
    "def convert_annotations_to_yolo(input_folder, output_folder, face_class_id=99):\n",
    "\n",
    "    if not os.path.exists(output_folder):\n",
    "        os.makedirs(output_folder)\n",
    "\n",
    "    for file_name in os.listdir(input_folder):\n",
    "        if file_name.endswith('.xml'):\n",
    "            file_path = os.path.join(input_folder, file_name)\n",
    "            tree = ET.parse(file_path)\n",
    "            root = tree.getroot()\n",
    "\n",
    "            # Get image dimensions\n",
    "            image_width = int(root.find(\"imagesize/ncols\").text)\n",
    "            image_height = int(root.find(\"imagesize/nrows\").text)\n",
    "\n",
    "            # Prepare to collect YOLO data\n",
    "            yolo_data = []\n",
    "\n",
    "            # Iterate through each object\n",
    "            for obj in root.findall(\"object\"):\n",
    "                class_name = obj.find(\"name\").text  # Class name\n",
    "                class_id = face_class_id if class_name.upper() == \"FACE\" else -1  # Mapping FACE to specified class ID\n",
    "\n",
    "                # Collect polygon points\n",
    "                polygon = obj.find(\"polygon\")\n",
    "                x_min = float(polygon.find(\"pt[1]/x\").text)\n",
    "                y_min = float(polygon.find(\"pt[1]/y\").text)\n",
    "                x_max = float(polygon.find(\"pt[3]/x\").text)\n",
    "                y_max = float(polygon.find(\"pt[3]/y\").text)\n",
    "\n",
    "                # Calculate YOLO parameters\n",
    "                x_center = round(((x_min + x_max) / 2) / image_width, 5)\n",
    "                y_center = round(((y_min + y_max) / 2) / image_height, 5)\n",
    "                width = round((x_max - x_min) / image_width, 5)\n",
    "                height = round((y_max - y_min) / image_height, 5)\n",
    "                confidence = 1.0  # Default confidence for conversion purposes\n",
    "\n",
    "                # Append data\n",
    "                yolo_data.append([class_id, x_center, y_center, width, height, confidence])\n",
    "\n",
    "            # Convert to a DataFrame\n",
    "            columns = [\"class\", \"x_center\", \"y_center\", \"width\", \"height\", \"confidence\"]\n",
    "            yolo_df = pd.DataFrame(yolo_data, columns=columns)\n",
    "\n",
    "            # Save the data to a YOLO annotation file format\n",
    "            base_name = os.path.splitext(file_name)[0]\n",
    "            output_file_path = os.path.join(output_folder, f\"{base_name}.txt\")\n",
    "            yolo_df.to_csv(output_file_path, sep=\" \", header=False, index=False)\n",
    "\n",
    "    print(f\"Converted YOLO annotations saved in: {output_folder}\")\n"
   ]
  },
  {
   "cell_type": "code",
   "execution_count": null,
   "metadata": {},
   "outputs": [],
   "source": [
    "convert_annotations_to_yolo(\"../ssic_image-corpus/data_phase-4_consensus/face/label_only\", \n",
    "                            \"../ssic_image-corpus/data_phase-4_consensus/face/label_only_yolo\")"
   ]
  }
 ],
 "metadata": {
  "kernelspec": {
   "display_name": "Python 3",
   "language": "python",
   "name": "python3"
  },
  "language_info": {
   "codemirror_mode": {
    "name": "ipython",
    "version": 3
   },
   "file_extension": ".py",
   "mimetype": "text/x-python",
   "name": "python",
   "nbconvert_exporter": "python",
   "pygments_lexer": "ipython3",
   "version": "3.11.4"
  }
 },
 "nbformat": 4,
 "nbformat_minor": 2
}
