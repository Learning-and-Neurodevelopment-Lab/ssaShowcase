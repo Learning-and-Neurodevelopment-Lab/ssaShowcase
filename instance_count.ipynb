{
 "cells": [
  {
   "cell_type": "markdown",
   "metadata": {},
   "source": [
    "# Instance and Frame Calculation\n",
    "This is to support on the paper and calculate how many instances and frames there are in the dataset."
   ]
  },
  {
   "cell_type": "code",
   "execution_count": 2,
   "metadata": {},
   "outputs": [],
   "source": [
    "import os\n",
    "import sys\n",
    "import xml.etree.ElementTree as ET"
   ]
  },
  {
   "cell_type": "code",
   "execution_count": 10,
   "metadata": {},
   "outputs": [],
   "source": [
    "face = 0\n",
    "word = 0\n",
    "number = 0\n",
    "place = 0"
   ]
  },
  {
   "cell_type": "code",
   "execution_count": 11,
   "metadata": {},
   "outputs": [],
   "source": [
    "def countInstances(filename):\n",
    "\n",
    "    global face\n",
    "    global word\n",
    "    global number\n",
    "    global place\n",
    "\n",
    "    tree = ET.parse(filename)\n",
    "    root = tree.getroot()\n",
    "\n",
    "    for obj in root.findall(\"object\"):\n",
    "        className = obj.find(\"name\").text\n",
    "        if className.lower() == \"face\":\n",
    "            face += 1\n",
    "        elif className.lower() == \"word\":\n",
    "            word += 1\n",
    "        elif className.lower() == \"number\":\n",
    "            number += 1\n",
    "        elif className.lower() == \"place\":\n",
    "            place += 1\n",
    "        else:\n",
    "            print(\"Unknown class: \" + className + \" in file: \" + filename)"
   ]
  },
  {
   "cell_type": "code",
   "execution_count": null,
   "metadata": {},
   "outputs": [],
   "source": [
    "labelFolder = \"../sesame/ssic_image-corpus/data_phase-4_consensus/face/label_only\"\n",
    "\n",
    "allFile = os.listdir(labelFolder)\n",
    "\n",
    "count = 0\n",
    "\n",
    "for x in allFile:\n",
    "    completePath = os.path.join(labelFolder, x)\n",
    "    countInstances(completePath)\n",
    "    count += 1\n",
    "    if count % 100 == 0:\n",
    "        print(\"Processed \" + str(count) + \" files\")"
   ]
  },
  {
   "cell_type": "code",
   "execution_count": null,
   "metadata": {},
   "outputs": [],
   "source": [
    "print(\"Faces: \" + str(face))\n",
    "print(\"Words: \" + str(word))\n",
    "print(\"Numbers: \" + str(number))\n",
    "print(\"Places: \" + str(place))"
   ]
  },
  {
   "cell_type": "markdown",
   "metadata": {},
   "source": [
    "# older version\n",
    "This code was done to calculate older version of the data for sanity check."
   ]
  },
  {
   "cell_type": "code",
   "execution_count": 17,
   "metadata": {},
   "outputs": [],
   "source": [
    "old_face = 0\n",
    "old_word = 0\n",
    "old_number = 0\n",
    "old_place = 0"
   ]
  },
  {
   "cell_type": "code",
   "execution_count": 18,
   "metadata": {},
   "outputs": [],
   "source": [
    "def countInstances(filename):\n",
    "\n",
    "    global old_face\n",
    "    global old_word\n",
    "    global old_number\n",
    "    global old_place\n",
    "\n",
    "    tree = ET.parse(filename)\n",
    "    root = tree.getroot()\n",
    "\n",
    "    for obj in root.findall(\"object\"):\n",
    "        className = obj.find(\"name\").text\n",
    "        if className.lower() == \"face\":\n",
    "            old_face += 1\n",
    "        elif className.lower() == \"word\":\n",
    "            old_word += 1\n",
    "        elif className.lower() == \"number\":\n",
    "            old_number += 1\n",
    "        elif className.lower() == \"place\":\n",
    "            old_place += 1\n",
    "        else:\n",
    "            print(\"Unknown class: \" + className + \" in file: \" + filename)"
   ]
  },
  {
   "cell_type": "code",
   "execution_count": null,
   "metadata": {},
   "outputs": [],
   "source": [
    "labelFolder = \"../sesame/ssic_image-corpus/data_phase-3_randomization/randomization_unsorted_labelonly\"\n",
    "\n",
    "allFile = os.listdir(labelFolder)\n",
    "\n",
    "count = 0\n",
    "\n",
    "for x in allFile:\n",
    "    completePath = os.path.join(labelFolder, x)\n",
    "    countInstances(completePath)\n",
    "    count += 1\n",
    "    if count % 100 == 0:\n",
    "        print(\"Processed \" + str(count) + \" files\")"
   ]
  },
  {
   "cell_type": "code",
   "execution_count": null,
   "metadata": {},
   "outputs": [],
   "source": [
    "print(\"Faces: \" + str(old_face))\n",
    "print(\"Words: \" + str(old_word))\n",
    "print(\"Numbers: \" + str(old_number))\n",
    "print(\"Places: \" + str(old_place))"
   ]
  },
  {
   "cell_type": "code",
   "execution_count": null,
   "metadata": {},
   "outputs": [],
   "source": [
    "human = 0\n",
    "nonHuman = 0\n",
    "\n",
    "def countInstances(filename):\n",
    "\n",
    "    global human\n",
    "    global nonHuman\n",
    "\n",
    "    tree = ET.parse(filename)\n",
    "    root = tree.getroot()\n",
    "\n",
    "    for obj in root.findall(\"object\"):\n",
    "        name_element = obj.find('name')\n",
    "        if name_element.text.lower() == \"face\":\n",
    "            attributes_element = obj.find('attributes')\n",
    "            if attributes_element is not None and attributes_element.text:\n",
    "                # Parse the species value\n",
    "                attributes = attributes_element.text\n",
    "\n",
    "                # <attributes>representation=real-world, species=human, race-ethnicity=black, age=adult, orientation=frontal, camera-angle=forward, visibility=full, clarity=clear, rotation=358.9</attributes>\n",
    "\n",
    "                representationPart, speciesPart, raceethnicityPart, agePart, orientationPart, cameraanglePart, visibilityPart, clarityPart, rotationPart = attributes.split(\",\")\n",
    "\n",
    "                species = speciesPart.split(\"=\")[-1].strip()  # Extract the species value\n",
    "                representation = representationPart.split(\"=\")[-1].strip()\n",
    "                raceethnicity = raceethnicityPart.split(\"=\")[-1].strip()\n",
    "                age = agePart.split(\"=\")[-1].strip()\n",
    "                orientation = orientationPart.split(\"=\")[-1].strip()\n",
    "                cameraangle = cameraanglePart.split(\"=\")[-1].strip()\n",
    "                visibility = visibilityPart.split(\"=\")[-1].strip()\n",
    "                clarity = clarityPart.split(\"=\")[-1].strip()\n",
    "                rotation = rotationPart.split(\"=\")[-1].strip()\n",
    "\n",
    "                if species.lower() == \"human\":\n",
    "                    human += 1\n",
    "                else:\n",
    "                    nonHuman += 1\n",
    "\n"
   ]
  },
  {
   "cell_type": "code",
   "execution_count": null,
   "metadata": {},
   "outputs": [],
   "source": [
    "labelFolder = \"../sesame/ssic_image-corpus/data_phase-4_consensus/face/label_only\"\n",
    "\n",
    "allFile = os.listdir(labelFolder)\n",
    "\n",
    "count = 0\n",
    "\n",
    "for x in allFile:\n",
    "    completePath = os.path.join(labelFolder, x)\n",
    "    countInstances(completePath)\n",
    "    count += 1\n",
    "    if count % 100 == 0:\n",
    "        print(\"Processed \" + str(count) + \" files\")\n",
    "\n",
    "\n",
    "print(\"Humans: \" + str(human))\n",
    "print(\"Non-Humans: \" + str(nonHuman))\n",
    "print(\"Total: \" + str(human + nonHuman))"
   ]
  },
  {
   "cell_type": "code",
   "execution_count": null,
   "metadata": {},
   "outputs": [],
   "source": [
    "# what percent of human face are stylized\n",
    "\n",
    "humanCount = 0\n",
    "humanStylized = 0\n",
    "\n",
    "def countInstances(filename):\n",
    "\n",
    "    global humanCount\n",
    "    global humanStylized\n",
    "\n",
    "    tree = ET.parse(filename)\n",
    "    root = tree.getroot()\n",
    "\n",
    "    for obj in root.findall(\"object\"):\n",
    "        name_element = obj.find('name')\n",
    "        if name_element.text.lower() == \"face\":\n",
    "            attributes_element = obj.find('attributes')\n",
    "            if attributes_element is not None and attributes_element.text:\n",
    "                # Parse the species value\n",
    "                attributes = attributes_element.text\n",
    "\n",
    "                representationPart, speciesPart, raceethnicityPart, agePart, orientationPart, cameraanglePart, visibilityPart, clarityPart, rotationPart = attributes.split(\",\")\n",
    "\n",
    "                species = speciesPart.split(\"=\")[-1].strip()  # Extract the species value\n",
    "                representation = representationPart.split(\"=\")[-1].strip()\n",
    "                raceethnicity = raceethnicityPart.split(\"=\")[-1].strip()\n",
    "                age = agePart.split(\"=\")[-1].strip()\n",
    "                orientation = orientationPart.split(\"=\")[-1].strip()\n",
    "                cameraangle = cameraanglePart.split(\"=\")[-1].strip()\n",
    "                visibility = visibilityPart.split(\"=\")[-1].strip()\n",
    "                clarity = clarityPart.split(\"=\")[-1].strip()\n",
    "                rotation = rotationPart.split(\"=\")[-1].strip()\n",
    "\n",
    "                if species.lower() == \"human\":\n",
    "                    humanCount += 1\n",
    "                    if representation.lower() == \"stylized\":\n",
    "                        humanStylized += 1\n",
    "\n",
    "\n",
    "\n",
    "labelFolder = \"../sesame/ssic_image-corpus/data_phase-4_consensus/face/label_only\"\n",
    "\n",
    "allFile = os.listdir(labelFolder)\n",
    "\n",
    "for x in allFile:\n",
    "    completePath = os.path.join(labelFolder, x)\n",
    "    countInstances(completePath)\n",
    "    count += 1\n",
    "    if count % 100 == 0:\n",
    "        print(\"Processed \" + str(count) + \" files\")\n",
    "\n"
   ]
  },
  {
   "cell_type": "code",
   "execution_count": null,
   "metadata": {},
   "outputs": [],
   "source": [
    "print(humanCount)\n",
    "print(humanStylized)"
   ]
  }
 ],
 "metadata": {
  "kernelspec": {
   "display_name": "Python 3",
   "language": "python",
   "name": "python3"
  },
  "language_info": {
   "codemirror_mode": {
    "name": "ipython",
    "version": 3
   },
   "file_extension": ".py",
   "mimetype": "text/x-python",
   "name": "python",
   "nbconvert_exporter": "python",
   "pygments_lexer": "ipython3",
   "version": "3.11.4"
  }
 },
 "nbformat": 4,
 "nbformat_minor": 2
}
