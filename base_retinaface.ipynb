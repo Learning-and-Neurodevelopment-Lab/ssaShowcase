{
 "cells": [
  {
   "cell_type": "markdown",
   "metadata": {},
   "source": [
    "# Baseline Evaluation of Retina Face\n",
    "This file contains code to do inferencing using the RetinaFace model.\n"
   ]
  },
  {
   "cell_type": "code",
   "execution_count": null,
   "metadata": {},
   "outputs": [],
   "source": [
    "from retinaface import RetinaFace\n",
    "import cv2\n",
    "import matplotlib.pyplot as plt\n",
    "import os\n",
    "import json\n",
    "import numpy as np\n",
    "import concurrent.futures"
   ]
  },
  {
   "cell_type": "markdown",
   "metadata": {},
   "source": [
    "### Experiment on Single Image"
   ]
  },
  {
   "cell_type": "code",
   "execution_count": null,
   "metadata": {},
   "outputs": [],
   "source": [
    "img_path = '../ssic_image-corpus/data_phase-3_randomization/randomization_unsorted_imageonly/0004_S35-E4059_00752.png'\n",
    "img = cv2.imread(img_path)"
   ]
  },
  {
   "cell_type": "code",
   "execution_count": 27,
   "metadata": {},
   "outputs": [],
   "source": [
    "obj = RetinaFace.detect_faces(img_path)"
   ]
  },
  {
   "cell_type": "code",
   "execution_count": 28,
   "metadata": {},
   "outputs": [],
   "source": [
    "for key in obj.keys():\n",
    "    identity = obj[key]\n",
    "    facialArea = identity['facial_area']\n",
    "    cv2.rectangle(img, (facialArea[2], facialArea[3]), (facialArea[0], facialArea[1]), (0, 255, 0), 1)"
   ]
  },
  {
   "cell_type": "code",
   "execution_count": null,
   "metadata": {},
   "outputs": [],
   "source": [
    "plt.imshow(cv2.cvtColor(img, cv2.COLOR_BGR2RGB))\n",
    "print(obj)\n",
    "print(type(obj))"
   ]
  },
  {
   "cell_type": "markdown",
   "metadata": {},
   "source": [
    "### Scaled Operation"
   ]
  },
  {
   "cell_type": "code",
   "execution_count": null,
   "metadata": {},
   "outputs": [],
   "source": [
    "imageFolder = '../ssic_image-corpus/data_phase-4_consensus/face/image_only'\n",
    "outputFolder = '../ssic_image-corpus/scripts/baseline_retinaface_consensus/retina_base'"
   ]
  },
  {
   "cell_type": "code",
   "execution_count": null,
   "metadata": {},
   "outputs": [],
   "source": [
    "def convert_numpy_to_python(obj):\n",
    "\n",
    "    if isinstance(obj, np.ndarray):\n",
    "        # Convert numpy array to list\n",
    "        return obj.tolist()  \n",
    "    elif isinstance(obj, (np.integer, np.int32, np.int64)):\n",
    "        # Convert numpy integer to Python int\n",
    "        return int(obj)  \n",
    "    elif isinstance(obj, (np.floating, np.float32, np.float64)):\n",
    "         # Convert numpy float to Python float\n",
    "        return float(obj) \n",
    "    elif isinstance(obj, dict):\n",
    "        # Recursively process dict\n",
    "        return {k: convert_numpy_to_python(v) for k, v in obj.items()}  \n",
    "    elif isinstance(obj, list):\n",
    "        return [convert_numpy_to_python(i) for i in obj] \n",
    "    else:\n",
    "        return obj\n",
    "\n",
    "def detect_faces_in_images(image_dir, output_dir):\n",
    "\n",
    "    os.makedirs(output_dir, exist_ok=True)\n",
    "    \n",
    "    for image_name in os.listdir(image_dir):\n",
    "        image_path = os.path.join(image_dir, image_name)\n",
    "        \n",
    "        if not os.path.isfile(image_path):\n",
    "            continue\n",
    "        \n",
    "        try:\n",
    "            # Detect faces\n",
    "            faces = RetinaFace.detect_faces(image_path)\n",
    "            \n",
    "            # Convert to JSON-serializable format\n",
    "            result = convert_numpy_to_python(faces if faces else {\"message\": \"No faces detected\"})\n",
    "        \n",
    "        except Exception as e:\n",
    "            result = {\"error\": str(e)}\n",
    "        \n",
    "        # Save to JSON file\n",
    "        json_filename = f\"{os.path.splitext(image_name)[0]}.json\"\n",
    "        json_path = os.path.join(output_dir, json_filename)\n",
    "        \n",
    "        with open(json_path, 'w') as f:\n",
    "            json.dump(result, f, indent=4)\n",
    "        \n",
    "        print(f\"Saved results for {image_name} to {json_filename}\")\n",
    "\n"
   ]
  },
  {
   "cell_type": "code",
   "execution_count": null,
   "metadata": {},
   "outputs": [],
   "source": [
    "# Run the function\n",
    "detect_faces_in_images(imageFolder, outputFolder)"
   ]
  },
  {
   "cell_type": "markdown",
   "metadata": {},
   "source": [
    "### Consensus Coding Name Change"
   ]
  },
  {
   "cell_type": "code",
   "execution_count": null,
   "metadata": {},
   "outputs": [],
   "source": [
    "import os\n",
    "import shutil\n",
    "import concurrent.futures\n",
    "\n",
    "def copy_file(src_path, dest_path):\n",
    "\n",
    "    os.makedirs(os.path.dirname(dest_path), exist_ok=True)\n",
    "    shutil.copy2(src_path, dest_path)  \n",
    "    print(f\"Copied {src_path} to {dest_path}\")\n",
    "\n",
    "def copy_folder_parallel(src_folder, dest_folder, num_workers=8):\n",
    "\n",
    "    # list all files from source\n",
    "    file_tasks = []\n",
    "    for root, dirs, files in os.walk(src_folder):\n",
    "        for file in files:\n",
    "            src_path = os.path.join(root, file)\n",
    "            # Determine the file's relative path to the source folder\n",
    "            rel_path = os.path.relpath(src_path, src_folder)\n",
    "            dest_path = os.path.join(dest_folder, rel_path)\n",
    "            file_tasks.append((src_path, dest_path))\n",
    "    \n",
    "    print(f\"Found {len(file_tasks)} files to copy.\")\n",
    "\n",
    "    # Use ThreadPoolExecutor to copy files in parallel\n",
    "    with concurrent.futures.ThreadPoolExecutor(max_workers=num_workers) as executor:\n",
    "        futures = [executor.submit(copy_file, src, dest) for src, dest in file_tasks]\n",
    "        # Wait for all tasks to complete and catch exceptions if any\n",
    "        for future in concurrent.futures.as_completed(futures):\n",
    "            try:\n",
    "                future.result()\n",
    "            except Exception as e:\n",
    "                print(f\"Error copying file: {e}\")\n",
    "\n",
    "    print(\"All files copied.\")\n"
   ]
  },
  {
   "cell_type": "code",
   "execution_count": null,
   "metadata": {},
   "outputs": [],
   "source": [
    "src_folder = f'../ssic_image-corpus/data_phase-3_randomization/retinaface_output_toyolo'\n",
    "dest_folder = f'../ssic_image-corpus/data_phase-4_consensus/face/retinaface_output_toyolo'\n",
    "copy_folder_parallel(src_folder, dest_folder, num_workers=32)"
   ]
  },
  {
   "cell_type": "code",
   "execution_count": null,
   "metadata": {},
   "outputs": [],
   "source": [
    "\n",
    "def rename_file(file_path):\n",
    "\n",
    "    directory, filename = os.path.split(file_path)\n",
    "    \n",
    "    # Split the filename on the first underscore only\n",
    "    parts = filename.split('_', 1)\n",
    "    if len(parts) == 2 and parts[0].isdigit() and len(parts[0]) == 4:\n",
    "        new_filename = parts[1]\n",
    "        new_path = os.path.join(directory, new_filename)\n",
    "        try:\n",
    "            os.rename(file_path, new_path)\n",
    "            print(f\"Renamed: {filename} -> {new_filename}\")\n",
    "        except Exception as e:\n",
    "            print(f\"Error renaming {filename}: {e}\")\n",
    "    else:\n",
    "        print(f\"Skipped (does not match pattern): {filename}\")\n",
    "\n",
    "def parallel_rename_files(folder, num_workers=4):\n",
    "\n",
    "    # List all files (non-recursive) in the folder\n",
    "    file_paths = [\n",
    "        os.path.join(folder, f)\n",
    "        for f in os.listdir(folder)\n",
    "        if os.path.isfile(os.path.join(folder, f))\n",
    "    ]\n",
    "    \n",
    "    print(f\"Found {len(file_paths)} files to process.\")\n",
    "    \n",
    "    # Use ThreadPoolExecutor to rename files in parallel\n",
    "    with concurrent.futures.ThreadPoolExecutor(max_workers=num_workers) as executor:\n",
    "        executor.map(rename_file, file_paths)\n",
    "    \n",
    "    print(\"Renaming process completed.\")\n",
    "\n"
   ]
  },
  {
   "cell_type": "code",
   "execution_count": null,
   "metadata": {},
   "outputs": [],
   "source": [
    "\n",
    "dest_folder = f'../ssic_image-corpus/data_phase-4_consensus/face/retinaface_output_toyolo'\n",
    "parallel_rename_files(dest_folder, num_workers=32)\n"
   ]
  }
 ],
 "metadata": {
  "kernelspec": {
   "display_name": "Python 3",
   "language": "python",
   "name": "python3"
  },
  "language_info": {
   "codemirror_mode": {
    "name": "ipython",
    "version": 3
   },
   "file_extension": ".py",
   "mimetype": "text/x-python",
   "name": "python",
   "nbconvert_exporter": "python",
   "pygments_lexer": "ipython3",
   "version": "3.11.4"
  }
 },
 "nbformat": 4,
 "nbformat_minor": 2
}
